{
 "cells": [
  {
   "cell_type": "code",
   "execution_count": 1,
   "metadata": {
    "_cell_guid": "b1076dfc-b9ad-4769-8c92-a6c4dae69d19",
    "_uuid": "8f2839f25d086af736a60e9eeb907d3b93b6e0e5",
    "execution": {
     "iopub.execute_input": "2025-04-27T14:41:05.478089Z",
     "iopub.status.busy": "2025-04-27T14:41:05.477754Z",
     "iopub.status.idle": "2025-04-27T14:41:12.233080Z",
     "shell.execute_reply": "2025-04-27T14:41:12.232296Z",
     "shell.execute_reply.started": "2025-04-27T14:41:05.478064Z"
    },
    "trusted": true
   },
   "outputs": [],
   "source": [
    "import torch\n",
    "import torch.nn as nn\n",
    "import numpy as np\n",
    "import torchvision\n",
    "import torch.optim as optim\n",
    "from torch.utils.data import DataLoader\n",
    "import torchvision.transforms.v2 as v2\n",
    "import matplotlib.pyplot as plt"
   ]
  },
  {
   "cell_type": "code",
   "execution_count": 2,
   "metadata": {
    "execution": {
     "iopub.execute_input": "2025-04-27T14:41:12.234574Z",
     "iopub.status.busy": "2025-04-27T14:41:12.234275Z",
     "iopub.status.idle": "2025-04-27T14:41:12.296410Z",
     "shell.execute_reply": "2025-04-27T14:41:12.295657Z",
     "shell.execute_reply.started": "2025-04-27T14:41:12.234555Z"
    },
    "trusted": true
   },
   "outputs": [
    {
     "data": {
      "text/plain": [
       "device(type='cuda')"
      ]
     },
     "execution_count": 2,
     "metadata": {},
     "output_type": "execute_result"
    }
   ],
   "source": [
    "device = torch.device(\"cuda\" if torch.cuda.is_available() else \"cpu\")\n",
    "device"
   ]
  },
  {
   "cell_type": "code",
   "execution_count": 3,
   "metadata": {
    "execution": {
     "iopub.execute_input": "2025-04-27T14:41:12.297747Z",
     "iopub.status.busy": "2025-04-27T14:41:12.297291Z",
     "iopub.status.idle": "2025-04-27T14:41:12.315261Z",
     "shell.execute_reply": "2025-04-27T14:41:12.314586Z",
     "shell.execute_reply.started": "2025-04-27T14:41:12.297728Z"
    },
    "trusted": true
   },
   "outputs": [],
   "source": [
    "BATCH_SIZE = 64\n",
    "EPOCH = 200"
   ]
  },
  {
   "cell_type": "markdown",
   "metadata": {},
   "source": [
    "## SRM filter"
   ]
  },
  {
   "cell_type": "code",
   "execution_count": 4,
   "metadata": {
    "execution": {
     "iopub.execute_input": "2025-04-27T14:41:12.316888Z",
     "iopub.status.busy": "2025-04-27T14:41:12.316684Z",
     "iopub.status.idle": "2025-04-27T14:41:12.331344Z",
     "shell.execute_reply": "2025-04-27T14:41:12.330851Z",
     "shell.execute_reply.started": "2025-04-27T14:41:12.316874Z"
    },
    "trusted": true
   },
   "outputs": [],
   "source": [
    "class SRMLayer(nn.Module):\n",
    "    def __init__(self):\n",
    "        super(SRMLayer, self).__init__()\n",
    "        \n",
    "        srm_filter = np.array([[-1,  2, -2,  2, -1],\n",
    "                               [ 2, -6,  8, -6,  2],\n",
    "                               [-2,  8,-12,  8, -2],\n",
    "                               [ 2, -6,  8, -6,  2],\n",
    "                               [-1,  2, -2,  2, -1]])\n",
    "        \n",
    "        srm_filter_tensor = torch.tensor(srm_filter, dtype=torch.float32).unsqueeze(0).unsqueeze(0)\n",
    "        srm_filter_tensor = srm_filter_tensor.repeat(1, 3, 1, 1)\n",
    "        \n",
    "        self.srm_filter = nn.Conv2d(in_channels=3, out_channels=1, kernel_size=5, stride=1, padding=2, bias=False)\n",
    "        self.srm_filter.weight = nn.Parameter(srm_filter_tensor)\n",
    "    \n",
    "    def forward(self, x):\n",
    "        return self.srm_filter(x)"
   ]
  },
  {
   "cell_type": "markdown",
   "metadata": {},
   "source": [
    "## Implementation of the proposed method"
   ]
  },
  {
   "cell_type": "code",
   "execution_count": 5,
   "metadata": {
    "execution": {
     "iopub.execute_input": "2025-04-27T14:41:12.332192Z",
     "iopub.status.busy": "2025-04-27T14:41:12.331982Z",
     "iopub.status.idle": "2025-04-27T14:41:12.349194Z",
     "shell.execute_reply": "2025-04-27T14:41:12.348470Z",
     "shell.execute_reply.started": "2025-04-27T14:41:12.332169Z"
    },
    "trusted": true
   },
   "outputs": [],
   "source": [
    "class NAVGG(nn.Module):\n",
    "    def __init__(self):\n",
    "        super(NAVGG, self).__init__()\n",
    "        \n",
    "        self.srm = SRMLayer()\n",
    "        \n",
    "        self.vgg = torchvision.models.vgg16()\n",
    "        self.vgg.features[0] = nn.Conv2d(1, 64, kernel_size=3, stride=1, padding=1)\n",
    "        self.vgg.classifier[6] = nn.Linear(4096, 1)\n",
    "        \n",
    "    def forward(self, x):\n",
    "        out = self.srm(x)\n",
    "        return self.vgg(out)"
   ]
  },
  {
   "cell_type": "code",
   "execution_count": 6,
   "metadata": {
    "execution": {
     "iopub.execute_input": "2025-04-27T14:41:12.350436Z",
     "iopub.status.busy": "2025-04-27T14:41:12.349884Z",
     "iopub.status.idle": "2025-04-27T14:41:14.791491Z",
     "shell.execute_reply": "2025-04-27T14:41:14.790879Z",
     "shell.execute_reply.started": "2025-04-27T14:41:12.350418Z"
    },
    "trusted": true
   },
   "outputs": [],
   "source": [
    "model = NAVGG().to(device)"
   ]
  },
  {
   "cell_type": "code",
   "execution_count": 7,
   "metadata": {
    "execution": {
     "iopub.execute_input": "2025-04-26T16:07:11.040864Z",
     "iopub.status.busy": "2025-04-26T16:07:11.040287Z",
     "iopub.status.idle": "2025-04-26T16:07:28.725056Z",
     "shell.execute_reply": "2025-04-26T16:07:28.724410Z",
     "shell.execute_reply.started": "2025-04-26T16:07:11.040833Z"
    },
    "trusted": true
   },
   "outputs": [],
   "source": [
    "transformer = v2.Compose([\n",
    "    v2.RandomHorizontalFlip(p=0.5),\n",
    "    v2.RandomRotation(degrees=15),\n",
    "    v2.ColorJitter(brightness=0.2, contrast=0.2, saturation=0.2, hue=0.1),\n",
    "    v2.RandomResizedCrop((128, 128), scale=(0.8, 1.0)),\n",
    "    v2.RandomGrayscale(p=0.1),\n",
    "    v2.GaussianBlur(kernel_size=(3, 3), sigma=(0.1, 2.0)),\n",
    "    \n",
    "    v2.ToImage(),  \n",
    "    v2.ToDtype(torch.float32, scale=True),  \n",
    "    v2.Normalize((0.5, 0.5, 0.5), (0.5, 0.5, 0.5))  \n",
    "])\n",
    "dataset = torchvision.datasets.ImageFolder('/kaggle/input/real-and-fake-images/dataset/train', transform=transformer)\n",
    "\n",
    "dataloader = DataLoader(dataset, batch_size=BATCH_SIZE, shuffle=True)"
   ]
  },
  {
   "cell_type": "code",
   "execution_count": 7,
   "metadata": {
    "execution": {
     "iopub.execute_input": "2025-04-27T14:41:14.792478Z",
     "iopub.status.busy": "2025-04-27T14:41:14.792260Z",
     "iopub.status.idle": "2025-04-27T14:41:14.796997Z",
     "shell.execute_reply": "2025-04-27T14:41:14.796247Z",
     "shell.execute_reply.started": "2025-04-27T14:41:14.792463Z"
    },
    "trusted": true
   },
   "outputs": [],
   "source": [
    "transformer = v2.Compose([\n",
    "    v2.Resize((128, 128)),\n",
    "    v2.ToImage(),\n",
    "    v2.ToDtype(torch.float32, scale=True),\n",
    "    v2.Normalize((0.5, 0.5, 0.5), (0.5, 0.5, 0.5))\n",
    "])"
   ]
  },
  {
   "cell_type": "code",
   "execution_count": 8,
   "metadata": {
    "execution": {
     "iopub.execute_input": "2025-04-26T16:07:30.704715Z",
     "iopub.status.busy": "2025-04-26T16:07:30.704231Z",
     "iopub.status.idle": "2025-04-26T16:07:30.709068Z",
     "shell.execute_reply": "2025-04-26T16:07:30.708249Z",
     "shell.execute_reply.started": "2025-04-26T16:07:30.704684Z"
    },
    "trusted": true
   },
   "outputs": [],
   "source": [
    "optimizer = optim.SGD(model.parameters(), lr=0.01, momentum=0.9, weight_decay=1e-6, nesterov=True)\n",
    "criterion = nn.BCEWithLogitsLoss()"
   ]
  },
  {
   "cell_type": "markdown",
   "metadata": {},
   "source": [
    "## Training process"
   ]
  },
  {
   "cell_type": "code",
   "execution_count": 9,
   "metadata": {
    "execution": {
     "iopub.execute_input": "2025-04-26T16:07:43.545932Z",
     "iopub.status.busy": "2025-04-26T16:07:43.545631Z",
     "iopub.status.idle": "2025-04-26T20:49:13.299014Z",
     "shell.execute_reply": "2025-04-26T20:49:13.298012Z",
     "shell.execute_reply.started": "2025-04-26T16:07:43.545913Z"
    },
    "trusted": true
   },
   "outputs": [
    {
     "name": "stdout",
     "output_type": "stream",
     "text": [
      "Epoch: 1\t Model Loss: 111.29370880126953\n",
      "Epoch: 2\t Model Loss: 50.27666473388672\n",
      "Epoch: 3\t Model Loss: 46.57938003540039\n",
      "Epoch: 4\t Model Loss: 43.8670768737793\n",
      "Epoch: 5\t Model Loss: 42.102943420410156\n",
      "Epoch: 6\t Model Loss: 39.71038055419922\n",
      "Epoch: 7\t Model Loss: 39.098236083984375\n",
      "Epoch: 8\t Model Loss: 38.12850570678711\n",
      "Epoch: 9\t Model Loss: 37.29909133911133\n",
      "Epoch: 10\t Model Loss: 36.02924346923828\n",
      "Epoch: 11\t Model Loss: 35.57667922973633\n",
      "Epoch: 12\t Model Loss: 35.17872619628906\n",
      "Epoch: 13\t Model Loss: 33.98767852783203\n",
      "Epoch: 14\t Model Loss: 34.12541961669922\n",
      "Epoch: 15\t Model Loss: 33.65521240234375\n",
      "Epoch: 16\t Model Loss: 32.3294563293457\n",
      "Epoch: 17\t Model Loss: 32.30155944824219\n",
      "Epoch: 18\t Model Loss: 31.934608459472656\n",
      "Epoch: 19\t Model Loss: 31.57101821899414\n",
      "Epoch: 20\t Model Loss: 31.044187545776367\n",
      "Epoch: 21\t Model Loss: 30.491077423095703\n",
      "Epoch: 22\t Model Loss: 30.12449073791504\n",
      "Epoch: 23\t Model Loss: 29.67723274230957\n",
      "Epoch: 24\t Model Loss: 29.316144943237305\n",
      "Epoch: 25\t Model Loss: 28.913103103637695\n",
      "Epoch: 26\t Model Loss: 28.315933227539062\n",
      "Epoch: 27\t Model Loss: 28.272296905517578\n",
      "Epoch: 28\t Model Loss: 27.42212677001953\n",
      "Epoch: 29\t Model Loss: 28.372989654541016\n",
      "Epoch: 30\t Model Loss: 27.25973892211914\n",
      "Epoch: 31\t Model Loss: 26.981285095214844\n",
      "Epoch: 32\t Model Loss: 26.418832778930664\n",
      "Epoch: 33\t Model Loss: 26.4338321685791\n",
      "Epoch: 34\t Model Loss: 26.027746200561523\n",
      "Epoch: 35\t Model Loss: 25.20317840576172\n",
      "Epoch: 36\t Model Loss: 25.463918685913086\n",
      "Epoch: 37\t Model Loss: 24.78898048400879\n",
      "Epoch: 38\t Model Loss: 24.899227142333984\n",
      "Epoch: 39\t Model Loss: 23.977617263793945\n",
      "Epoch: 40\t Model Loss: 23.617212295532227\n",
      "Epoch: 41\t Model Loss: 23.609952926635742\n",
      "Epoch: 42\t Model Loss: 23.04361343383789\n",
      "Epoch: 43\t Model Loss: 23.183679580688477\n",
      "Epoch: 44\t Model Loss: 21.969369888305664\n",
      "Epoch: 45\t Model Loss: 21.55832862854004\n",
      "Epoch: 46\t Model Loss: 21.20658302307129\n",
      "Epoch: 47\t Model Loss: 20.89629554748535\n",
      "Epoch: 48\t Model Loss: 20.916667938232422\n",
      "Epoch: 49\t Model Loss: 20.944110870361328\n",
      "Epoch: 50\t Model Loss: 20.391618728637695\n",
      "Epoch: 51\t Model Loss: 20.4635009765625\n",
      "Epoch: 52\t Model Loss: 19.8844051361084\n",
      "Epoch: 53\t Model Loss: 19.20774269104004\n",
      "Epoch: 54\t Model Loss: 18.400543212890625\n",
      "Epoch: 55\t Model Loss: 18.961658477783203\n",
      "Epoch: 56\t Model Loss: 18.031009674072266\n",
      "Epoch: 57\t Model Loss: 17.499927520751953\n",
      "Epoch: 58\t Model Loss: 16.917917251586914\n",
      "Epoch: 59\t Model Loss: 16.945636749267578\n",
      "Epoch: 60\t Model Loss: 16.669431686401367\n",
      "Epoch: 61\t Model Loss: 16.949291229248047\n",
      "Epoch: 62\t Model Loss: 16.185962677001953\n",
      "Epoch: 63\t Model Loss: 15.599838256835938\n"
     ]
    },
    {
     "ename": "KeyboardInterrupt",
     "evalue": "",
     "output_type": "error",
     "traceback": [
      "\u001b[0;31m---------------------------------------------------------------------------\u001b[0m",
      "\u001b[0;31mKeyboardInterrupt\u001b[0m                         Traceback (most recent call last)",
      "\u001b[0;32m/tmp/ipykernel_31/1578821714.py\u001b[0m in \u001b[0;36m<cell line: 0>\u001b[0;34m()\u001b[0m\n\u001b[1;32m      1\u001b[0m \u001b[0;32mfor\u001b[0m \u001b[0mepoch\u001b[0m \u001b[0;32min\u001b[0m \u001b[0mrange\u001b[0m\u001b[0;34m(\u001b[0m\u001b[0;36m1\u001b[0m\u001b[0;34m,\u001b[0m \u001b[0mEPOCH\u001b[0m\u001b[0;34m+\u001b[0m\u001b[0;36m1\u001b[0m\u001b[0;34m)\u001b[0m\u001b[0;34m:\u001b[0m\u001b[0;34m\u001b[0m\u001b[0;34m\u001b[0m\u001b[0m\n\u001b[1;32m      2\u001b[0m     \u001b[0mmodel_loss\u001b[0m \u001b[0;34m=\u001b[0m \u001b[0;36m0\u001b[0m\u001b[0;34m\u001b[0m\u001b[0;34m\u001b[0m\u001b[0m\n\u001b[0;32m----> 3\u001b[0;31m     \u001b[0;32mfor\u001b[0m \u001b[0mimage\u001b[0m\u001b[0;34m,\u001b[0m \u001b[0mlabel\u001b[0m \u001b[0;32min\u001b[0m \u001b[0mdataloader\u001b[0m\u001b[0;34m:\u001b[0m\u001b[0;34m\u001b[0m\u001b[0;34m\u001b[0m\u001b[0m\n\u001b[0m\u001b[1;32m      4\u001b[0m         \u001b[0mimage\u001b[0m\u001b[0;34m,\u001b[0m \u001b[0mlabel\u001b[0m \u001b[0;34m=\u001b[0m \u001b[0mimage\u001b[0m\u001b[0;34m.\u001b[0m\u001b[0mto\u001b[0m\u001b[0;34m(\u001b[0m\u001b[0mdevice\u001b[0m\u001b[0;34m)\u001b[0m\u001b[0;34m,\u001b[0m \u001b[0mlabel\u001b[0m\u001b[0;34m.\u001b[0m\u001b[0mto\u001b[0m\u001b[0;34m(\u001b[0m\u001b[0mdevice\u001b[0m\u001b[0;34m)\u001b[0m\u001b[0;34m.\u001b[0m\u001b[0mfloat\u001b[0m\u001b[0;34m(\u001b[0m\u001b[0;34m)\u001b[0m\u001b[0;34m\u001b[0m\u001b[0;34m\u001b[0m\u001b[0m\n\u001b[1;32m      5\u001b[0m \u001b[0;34m\u001b[0m\u001b[0m\n",
      "\u001b[0;32m/usr/local/lib/python3.11/dist-packages/torch/utils/data/dataloader.py\u001b[0m in \u001b[0;36m__next__\u001b[0;34m(self)\u001b[0m\n\u001b[1;32m    699\u001b[0m                 \u001b[0;31m# TODO(https://github.com/pytorch/pytorch/issues/76750)\u001b[0m\u001b[0;34m\u001b[0m\u001b[0;34m\u001b[0m\u001b[0m\n\u001b[1;32m    700\u001b[0m                 \u001b[0mself\u001b[0m\u001b[0;34m.\u001b[0m\u001b[0m_reset\u001b[0m\u001b[0;34m(\u001b[0m\u001b[0;34m)\u001b[0m  \u001b[0;31m# type: ignore[call-arg]\u001b[0m\u001b[0;34m\u001b[0m\u001b[0;34m\u001b[0m\u001b[0m\n\u001b[0;32m--> 701\u001b[0;31m             \u001b[0mdata\u001b[0m \u001b[0;34m=\u001b[0m \u001b[0mself\u001b[0m\u001b[0;34m.\u001b[0m\u001b[0m_next_data\u001b[0m\u001b[0;34m(\u001b[0m\u001b[0;34m)\u001b[0m\u001b[0;34m\u001b[0m\u001b[0;34m\u001b[0m\u001b[0m\n\u001b[0m\u001b[1;32m    702\u001b[0m             \u001b[0mself\u001b[0m\u001b[0;34m.\u001b[0m\u001b[0m_num_yielded\u001b[0m \u001b[0;34m+=\u001b[0m \u001b[0;36m1\u001b[0m\u001b[0;34m\u001b[0m\u001b[0;34m\u001b[0m\u001b[0m\n\u001b[1;32m    703\u001b[0m             if (\n",
      "\u001b[0;32m/usr/local/lib/python3.11/dist-packages/torch/utils/data/dataloader.py\u001b[0m in \u001b[0;36m_next_data\u001b[0;34m(self)\u001b[0m\n\u001b[1;32m    755\u001b[0m     \u001b[0;32mdef\u001b[0m \u001b[0m_next_data\u001b[0m\u001b[0;34m(\u001b[0m\u001b[0mself\u001b[0m\u001b[0;34m)\u001b[0m\u001b[0;34m:\u001b[0m\u001b[0;34m\u001b[0m\u001b[0;34m\u001b[0m\u001b[0m\n\u001b[1;32m    756\u001b[0m         \u001b[0mindex\u001b[0m \u001b[0;34m=\u001b[0m \u001b[0mself\u001b[0m\u001b[0;34m.\u001b[0m\u001b[0m_next_index\u001b[0m\u001b[0;34m(\u001b[0m\u001b[0;34m)\u001b[0m  \u001b[0;31m# may raise StopIteration\u001b[0m\u001b[0;34m\u001b[0m\u001b[0;34m\u001b[0m\u001b[0m\n\u001b[0;32m--> 757\u001b[0;31m         \u001b[0mdata\u001b[0m \u001b[0;34m=\u001b[0m \u001b[0mself\u001b[0m\u001b[0;34m.\u001b[0m\u001b[0m_dataset_fetcher\u001b[0m\u001b[0;34m.\u001b[0m\u001b[0mfetch\u001b[0m\u001b[0;34m(\u001b[0m\u001b[0mindex\u001b[0m\u001b[0;34m)\u001b[0m  \u001b[0;31m# may raise StopIteration\u001b[0m\u001b[0;34m\u001b[0m\u001b[0;34m\u001b[0m\u001b[0m\n\u001b[0m\u001b[1;32m    758\u001b[0m         \u001b[0;32mif\u001b[0m \u001b[0mself\u001b[0m\u001b[0;34m.\u001b[0m\u001b[0m_pin_memory\u001b[0m\u001b[0;34m:\u001b[0m\u001b[0;34m\u001b[0m\u001b[0;34m\u001b[0m\u001b[0m\n\u001b[1;32m    759\u001b[0m             \u001b[0mdata\u001b[0m \u001b[0;34m=\u001b[0m \u001b[0m_utils\u001b[0m\u001b[0;34m.\u001b[0m\u001b[0mpin_memory\u001b[0m\u001b[0;34m.\u001b[0m\u001b[0mpin_memory\u001b[0m\u001b[0;34m(\u001b[0m\u001b[0mdata\u001b[0m\u001b[0;34m,\u001b[0m \u001b[0mself\u001b[0m\u001b[0;34m.\u001b[0m\u001b[0m_pin_memory_device\u001b[0m\u001b[0;34m)\u001b[0m\u001b[0;34m\u001b[0m\u001b[0;34m\u001b[0m\u001b[0m\n",
      "\u001b[0;32m/usr/local/lib/python3.11/dist-packages/torch/utils/data/_utils/fetch.py\u001b[0m in \u001b[0;36mfetch\u001b[0;34m(self, possibly_batched_index)\u001b[0m\n\u001b[1;32m     50\u001b[0m                 \u001b[0mdata\u001b[0m \u001b[0;34m=\u001b[0m \u001b[0mself\u001b[0m\u001b[0;34m.\u001b[0m\u001b[0mdataset\u001b[0m\u001b[0;34m.\u001b[0m\u001b[0m__getitems__\u001b[0m\u001b[0;34m(\u001b[0m\u001b[0mpossibly_batched_index\u001b[0m\u001b[0;34m)\u001b[0m\u001b[0;34m\u001b[0m\u001b[0;34m\u001b[0m\u001b[0m\n\u001b[1;32m     51\u001b[0m             \u001b[0;32melse\u001b[0m\u001b[0;34m:\u001b[0m\u001b[0;34m\u001b[0m\u001b[0;34m\u001b[0m\u001b[0m\n\u001b[0;32m---> 52\u001b[0;31m                 \u001b[0mdata\u001b[0m \u001b[0;34m=\u001b[0m \u001b[0;34m[\u001b[0m\u001b[0mself\u001b[0m\u001b[0;34m.\u001b[0m\u001b[0mdataset\u001b[0m\u001b[0;34m[\u001b[0m\u001b[0midx\u001b[0m\u001b[0;34m]\u001b[0m \u001b[0;32mfor\u001b[0m \u001b[0midx\u001b[0m \u001b[0;32min\u001b[0m \u001b[0mpossibly_batched_index\u001b[0m\u001b[0;34m]\u001b[0m\u001b[0;34m\u001b[0m\u001b[0;34m\u001b[0m\u001b[0m\n\u001b[0m\u001b[1;32m     53\u001b[0m         \u001b[0;32melse\u001b[0m\u001b[0;34m:\u001b[0m\u001b[0;34m\u001b[0m\u001b[0;34m\u001b[0m\u001b[0m\n\u001b[1;32m     54\u001b[0m             \u001b[0mdata\u001b[0m \u001b[0;34m=\u001b[0m \u001b[0mself\u001b[0m\u001b[0;34m.\u001b[0m\u001b[0mdataset\u001b[0m\u001b[0;34m[\u001b[0m\u001b[0mpossibly_batched_index\u001b[0m\u001b[0;34m]\u001b[0m\u001b[0;34m\u001b[0m\u001b[0;34m\u001b[0m\u001b[0m\n",
      "\u001b[0;32m/usr/local/lib/python3.11/dist-packages/torch/utils/data/_utils/fetch.py\u001b[0m in \u001b[0;36m<listcomp>\u001b[0;34m(.0)\u001b[0m\n\u001b[1;32m     50\u001b[0m                 \u001b[0mdata\u001b[0m \u001b[0;34m=\u001b[0m \u001b[0mself\u001b[0m\u001b[0;34m.\u001b[0m\u001b[0mdataset\u001b[0m\u001b[0;34m.\u001b[0m\u001b[0m__getitems__\u001b[0m\u001b[0;34m(\u001b[0m\u001b[0mpossibly_batched_index\u001b[0m\u001b[0;34m)\u001b[0m\u001b[0;34m\u001b[0m\u001b[0;34m\u001b[0m\u001b[0m\n\u001b[1;32m     51\u001b[0m             \u001b[0;32melse\u001b[0m\u001b[0;34m:\u001b[0m\u001b[0;34m\u001b[0m\u001b[0;34m\u001b[0m\u001b[0m\n\u001b[0;32m---> 52\u001b[0;31m                 \u001b[0mdata\u001b[0m \u001b[0;34m=\u001b[0m \u001b[0;34m[\u001b[0m\u001b[0mself\u001b[0m\u001b[0;34m.\u001b[0m\u001b[0mdataset\u001b[0m\u001b[0;34m[\u001b[0m\u001b[0midx\u001b[0m\u001b[0;34m]\u001b[0m \u001b[0;32mfor\u001b[0m \u001b[0midx\u001b[0m \u001b[0;32min\u001b[0m \u001b[0mpossibly_batched_index\u001b[0m\u001b[0;34m]\u001b[0m\u001b[0;34m\u001b[0m\u001b[0;34m\u001b[0m\u001b[0m\n\u001b[0m\u001b[1;32m     53\u001b[0m         \u001b[0;32melse\u001b[0m\u001b[0;34m:\u001b[0m\u001b[0;34m\u001b[0m\u001b[0;34m\u001b[0m\u001b[0m\n\u001b[1;32m     54\u001b[0m             \u001b[0mdata\u001b[0m \u001b[0;34m=\u001b[0m \u001b[0mself\u001b[0m\u001b[0;34m.\u001b[0m\u001b[0mdataset\u001b[0m\u001b[0;34m[\u001b[0m\u001b[0mpossibly_batched_index\u001b[0m\u001b[0;34m]\u001b[0m\u001b[0;34m\u001b[0m\u001b[0;34m\u001b[0m\u001b[0m\n",
      "\u001b[0;32m/usr/local/lib/python3.11/dist-packages/torchvision/datasets/folder.py\u001b[0m in \u001b[0;36m__getitem__\u001b[0;34m(self, index)\u001b[0m\n\u001b[1;32m    243\u001b[0m         \"\"\"\n\u001b[1;32m    244\u001b[0m         \u001b[0mpath\u001b[0m\u001b[0;34m,\u001b[0m \u001b[0mtarget\u001b[0m \u001b[0;34m=\u001b[0m \u001b[0mself\u001b[0m\u001b[0;34m.\u001b[0m\u001b[0msamples\u001b[0m\u001b[0;34m[\u001b[0m\u001b[0mindex\u001b[0m\u001b[0;34m]\u001b[0m\u001b[0;34m\u001b[0m\u001b[0;34m\u001b[0m\u001b[0m\n\u001b[0;32m--> 245\u001b[0;31m         \u001b[0msample\u001b[0m \u001b[0;34m=\u001b[0m \u001b[0mself\u001b[0m\u001b[0;34m.\u001b[0m\u001b[0mloader\u001b[0m\u001b[0;34m(\u001b[0m\u001b[0mpath\u001b[0m\u001b[0;34m)\u001b[0m\u001b[0;34m\u001b[0m\u001b[0;34m\u001b[0m\u001b[0m\n\u001b[0m\u001b[1;32m    246\u001b[0m         \u001b[0;32mif\u001b[0m \u001b[0mself\u001b[0m\u001b[0;34m.\u001b[0m\u001b[0mtransform\u001b[0m \u001b[0;32mis\u001b[0m \u001b[0;32mnot\u001b[0m \u001b[0;32mNone\u001b[0m\u001b[0;34m:\u001b[0m\u001b[0;34m\u001b[0m\u001b[0;34m\u001b[0m\u001b[0m\n\u001b[1;32m    247\u001b[0m             \u001b[0msample\u001b[0m \u001b[0;34m=\u001b[0m \u001b[0mself\u001b[0m\u001b[0;34m.\u001b[0m\u001b[0mtransform\u001b[0m\u001b[0;34m(\u001b[0m\u001b[0msample\u001b[0m\u001b[0;34m)\u001b[0m\u001b[0;34m\u001b[0m\u001b[0;34m\u001b[0m\u001b[0m\n",
      "\u001b[0;32m/usr/local/lib/python3.11/dist-packages/torchvision/datasets/folder.py\u001b[0m in \u001b[0;36mdefault_loader\u001b[0;34m(path)\u001b[0m\n\u001b[1;32m    282\u001b[0m         \u001b[0;32mreturn\u001b[0m \u001b[0maccimage_loader\u001b[0m\u001b[0;34m(\u001b[0m\u001b[0mpath\u001b[0m\u001b[0;34m)\u001b[0m\u001b[0;34m\u001b[0m\u001b[0;34m\u001b[0m\u001b[0m\n\u001b[1;32m    283\u001b[0m     \u001b[0;32melse\u001b[0m\u001b[0;34m:\u001b[0m\u001b[0;34m\u001b[0m\u001b[0;34m\u001b[0m\u001b[0m\n\u001b[0;32m--> 284\u001b[0;31m         \u001b[0;32mreturn\u001b[0m \u001b[0mpil_loader\u001b[0m\u001b[0;34m(\u001b[0m\u001b[0mpath\u001b[0m\u001b[0;34m)\u001b[0m\u001b[0;34m\u001b[0m\u001b[0;34m\u001b[0m\u001b[0m\n\u001b[0m\u001b[1;32m    285\u001b[0m \u001b[0;34m\u001b[0m\u001b[0m\n\u001b[1;32m    286\u001b[0m \u001b[0;34m\u001b[0m\u001b[0m\n",
      "\u001b[0;32m/usr/local/lib/python3.11/dist-packages/torchvision/datasets/folder.py\u001b[0m in \u001b[0;36mpil_loader\u001b[0;34m(path)\u001b[0m\n\u001b[1;32m    260\u001b[0m \u001b[0;32mdef\u001b[0m \u001b[0mpil_loader\u001b[0m\u001b[0;34m(\u001b[0m\u001b[0mpath\u001b[0m\u001b[0;34m:\u001b[0m \u001b[0mstr\u001b[0m\u001b[0;34m)\u001b[0m \u001b[0;34m->\u001b[0m \u001b[0mImage\u001b[0m\u001b[0;34m.\u001b[0m\u001b[0mImage\u001b[0m\u001b[0;34m:\u001b[0m\u001b[0;34m\u001b[0m\u001b[0;34m\u001b[0m\u001b[0m\n\u001b[1;32m    261\u001b[0m     \u001b[0;31m# open path as file to avoid ResourceWarning (https://github.com/python-pillow/Pillow/issues/835)\u001b[0m\u001b[0;34m\u001b[0m\u001b[0;34m\u001b[0m\u001b[0m\n\u001b[0;32m--> 262\u001b[0;31m     \u001b[0;32mwith\u001b[0m \u001b[0mopen\u001b[0m\u001b[0;34m(\u001b[0m\u001b[0mpath\u001b[0m\u001b[0;34m,\u001b[0m \u001b[0;34m\"rb\"\u001b[0m\u001b[0;34m)\u001b[0m \u001b[0;32mas\u001b[0m \u001b[0mf\u001b[0m\u001b[0;34m:\u001b[0m\u001b[0;34m\u001b[0m\u001b[0;34m\u001b[0m\u001b[0m\n\u001b[0m\u001b[1;32m    263\u001b[0m         \u001b[0mimg\u001b[0m \u001b[0;34m=\u001b[0m \u001b[0mImage\u001b[0m\u001b[0;34m.\u001b[0m\u001b[0mopen\u001b[0m\u001b[0;34m(\u001b[0m\u001b[0mf\u001b[0m\u001b[0;34m)\u001b[0m\u001b[0;34m\u001b[0m\u001b[0;34m\u001b[0m\u001b[0m\n\u001b[1;32m    264\u001b[0m         \u001b[0;32mreturn\u001b[0m \u001b[0mimg\u001b[0m\u001b[0;34m.\u001b[0m\u001b[0mconvert\u001b[0m\u001b[0;34m(\u001b[0m\u001b[0;34m\"RGB\"\u001b[0m\u001b[0;34m)\u001b[0m\u001b[0;34m\u001b[0m\u001b[0;34m\u001b[0m\u001b[0m\n",
      "\u001b[0;31mKeyboardInterrupt\u001b[0m: "
     ]
    }
   ],
   "source": [
    "for epoch in range(1, EPOCH+1):\n",
    "    model_loss = 0\n",
    "    for image, label in dataloader:\n",
    "        image, label = image.to(device), label.to(device).float()\n",
    "        \n",
    "        out = model(image)\n",
    "        out = out.view(-1)\n",
    "        loss = criterion(out, label)\n",
    "        \n",
    "        model_loss += loss\n",
    "        \n",
    "        optimizer.zero_grad()\n",
    "        loss.backward()\n",
    "        optimizer.step()\n",
    "        \n",
    "    \n",
    "    print(f\"Epoch: {epoch}\\t Model Loss: {model_loss}\")"
   ]
  },
  {
   "cell_type": "code",
   "execution_count": 8,
   "metadata": {
    "execution": {
     "iopub.execute_input": "2025-04-27T14:41:16.802079Z",
     "iopub.status.busy": "2025-04-27T14:41:16.801541Z",
     "iopub.status.idle": "2025-04-27T14:41:21.249415Z",
     "shell.execute_reply": "2025-04-27T14:41:21.248674Z",
     "shell.execute_reply.started": "2025-04-27T14:41:16.802053Z"
    },
    "trusted": true
   },
   "outputs": [
    {
     "data": {
      "text/plain": [
       "<All keys matched successfully>"
      ]
     },
     "execution_count": 8,
     "metadata": {},
     "output_type": "execute_result"
    }
   ],
   "source": [
    "model.load_state_dict(torch.load(\"/kaggle/input/chang-method/pytorch/default/1/new_model.pth\", weights_only=True))"
   ]
  },
  {
   "cell_type": "code",
   "execution_count": 9,
   "metadata": {
    "execution": {
     "iopub.execute_input": "2025-04-27T14:41:21.250935Z",
     "iopub.status.busy": "2025-04-27T14:41:21.250590Z",
     "iopub.status.idle": "2025-04-27T14:41:24.244575Z",
     "shell.execute_reply": "2025-04-27T14:41:24.243889Z",
     "shell.execute_reply.started": "2025-04-27T14:41:21.250905Z"
    },
    "trusted": true
   },
   "outputs": [],
   "source": [
    "dataset = torchvision.datasets.ImageFolder(\"/kaggle/input/real-and-fake-images/dataset/validation\", transform=transformer)\n",
    "dataloader = DataLoader(dataset, batch_size=BATCH_SIZE, shuffle=True)"
   ]
  },
  {
   "cell_type": "markdown",
   "metadata": {},
   "source": [
    "## Validation process"
   ]
  },
  {
   "cell_type": "code",
   "execution_count": 10,
   "metadata": {
    "execution": {
     "iopub.execute_input": "2025-04-27T14:41:24.245548Z",
     "iopub.status.busy": "2025-04-27T14:41:24.245318Z",
     "iopub.status.idle": "2025-04-27T14:41:57.912624Z",
     "shell.execute_reply": "2025-04-27T14:41:57.911942Z",
     "shell.execute_reply.started": "2025-04-27T14:41:24.245531Z"
    },
    "trusted": true
   },
   "outputs": [
    {
     "name": "stdout",
     "output_type": "stream",
     "text": [
      "Validation Loss: 43.8089\n",
      "Validation Accuracy: 80.12%\n"
     ]
    }
   ],
   "source": [
    "model.eval()\n",
    "\n",
    "correct = 0\n",
    "total = 0\n",
    "validation_loss = 0\n",
    "\n",
    "criterion = nn.BCEWithLogitsLoss()\n",
    "\n",
    "with torch.no_grad():\n",
    "    for image, label in dataloader:\n",
    "        image, label = image.to(device), label.to(device).float()\n",
    "        \n",
    "        out = model(image)\n",
    "        out = out.view(-1)\n",
    "        \n",
    "        loss = criterion(out, label)\n",
    "        validation_loss += loss.item()\n",
    "        \n",
    "        predicted = torch.sigmoid(out) > 0.5\n",
    "        \n",
    "        correct += (predicted == label).sum().item()\n",
    "        total += label.size(0)\n",
    "\n",
    "# Calcular e exibir métricas\n",
    "accuracy = 100 * correct / total\n",
    "print(f'Validation Loss: {validation_loss:.4f}')\n",
    "print(f'Validation Accuracy: {accuracy:.2f}%')\n"
   ]
  },
  {
   "cell_type": "code",
   "execution_count": 11,
   "metadata": {
    "execution": {
     "iopub.execute_input": "2025-04-27T14:41:57.914016Z",
     "iopub.status.busy": "2025-04-27T14:41:57.913783Z",
     "iopub.status.idle": "2025-04-27T14:42:18.200213Z",
     "shell.execute_reply": "2025-04-27T14:42:18.199646Z",
     "shell.execute_reply.started": "2025-04-27T14:41:57.913998Z"
    },
    "trusted": true
   },
   "outputs": [],
   "source": [
    "model.eval()\n",
    "\n",
    "all_preds = []\n",
    "all_labels = []\n",
    "\n",
    "with torch.no_grad():\n",
    "    for image, label in dataloader:\n",
    "        image, label = image.to(device), label.to(device).float()\n",
    "        \n",
    "        out = model(image).view(-1)            # logits\n",
    "        probs = torch.sigmoid(out)             # probabilidades entre 0 e 1\n",
    "        preds = (probs > 0.5).long()           # 0 ou 1\n",
    "        \n",
    "        all_preds.append(preds.cpu())\n",
    "        all_labels.append(label.cpu().long())\n",
    "\n",
    "y_pred = torch.cat(all_preds).numpy()\n",
    "y_true = torch.cat(all_labels).numpy()\n"
   ]
  },
  {
   "cell_type": "code",
   "execution_count": 12,
   "metadata": {
    "execution": {
     "iopub.execute_input": "2025-04-27T14:42:18.201016Z",
     "iopub.status.busy": "2025-04-27T14:42:18.200832Z",
     "iopub.status.idle": "2025-04-27T14:42:19.731897Z",
     "shell.execute_reply": "2025-04-27T14:42:19.731265Z",
     "shell.execute_reply.started": "2025-04-27T14:42:18.201000Z"
    },
    "trusted": true
   },
   "outputs": [
    {
     "data": {
      "image/png": "[encoded data removed]",
      "text/plain": [
       "<Figure size 600x500 with 2 Axes>"
      ]
     },
     "metadata": {},
     "output_type": "display_data"
    }
   ],
   "source": [
    "from sklearn.metrics import confusion_matrix\n",
    "import seaborn as sns\n",
    "import matplotlib.pyplot as plt\n",
    "\n",
    "cm = confusion_matrix(y_true, y_pred)\n",
    "\n",
    "plt.figure(figsize=(6,5))\n",
    "sns.heatmap(cm, annot=True, fmt=\"d\", cmap=\"Blues\")\n",
    "plt.xlabel('Predicted')\n",
    "plt.ylabel('True')\n",
    "plt.title('Confusion Matrix')\n",
    "plt.savefig('confusion_matrix.png', dpi=300)\n",
    "plt.show()"
   ]
  },
  {
   "cell_type": "code",
   "execution_count": 13,
   "metadata": {
    "execution": {
     "iopub.execute_input": "2025-04-27T14:42:19.732785Z",
     "iopub.status.busy": "2025-04-27T14:42:19.732475Z",
     "iopub.status.idle": "2025-04-27T14:42:19.743105Z",
     "shell.execute_reply": "2025-04-27T14:42:19.742528Z",
     "shell.execute_reply.started": "2025-04-27T14:42:19.732768Z"
    },
    "trusted": true
   },
   "outputs": [
    {
     "name": "stdout",
     "output_type": "stream",
     "text": [
      "Precision: 0.8107\n",
      "Recall: 0.8012\n",
      "F1-score: 0.7997\n"
     ]
    }
   ],
   "source": [
    "from sklearn.metrics import precision_score, recall_score, f1_score\n",
    "\n",
    "precision = precision_score(y_true, y_pred, average='weighted')  # ou 'macro', 'micro' dependendo do que quiser\n",
    "recall = recall_score(y_true, y_pred, average='weighted')\n",
    "f1 = f1_score(y_true, y_pred, average='weighted')\n",
    "\n",
    "print(f'Precision: {precision:.4f}')\n",
    "print(f'Recall: {recall:.4f}')\n",
    "print(f'F1-score: {f1:.4f}')"
   ]
  },
  {
   "cell_type": "code",
   "execution_count": null,
   "metadata": {
    "trusted": true
   },
   "outputs": [],
   "source": []
  }
 ],
 "metadata": {
  "kaggle": {
   "accelerator": "gpu",
   "dataSources": [
    {
     "datasetId": 7078326,
     "sourceId": 11316276,
     "sourceType": "datasetVersion"
    },
    {
     "isSourceIdPinned": true,
     "modelId": 320457,
     "modelInstanceId": 299889,
     "sourceId": 360473,
     "sourceType": "modelInstanceVersion"
    }
   ],
   "dockerImageVersionId": 31011,
   "isGpuEnabled": true,
   "isInternetEnabled": true,
   "language": "python",
   "sourceType": "notebook"
  },
  "kernelspec": {
   "display_name": "Python 3",
   "language": "python",
   "name": "python3"
  },
  "language_info": {
   "codemirror_mode": {
    "name": "ipython",
    "version": 3
   },
   "file_extension": ".py",
   "mimetype": "text/x-python",
   "name": "python",
   "nbconvert_exporter": "python",
   "pygments_lexer": "ipython3",
   "version": "3.11.11"
  }
 },
 "nbformat": 4,
 "nbformat_minor": 4
}
