{
 "cells": [
  {
   "cell_type": "code",
   "execution_count": 1,
   "id": "ae71275a",
   "metadata": {
    "_cell_guid": "b1076dfc-b9ad-4769-8c92-a6c4dae69d19",
    "_uuid": "8f2839f25d086af736a60e9eeb907d3b93b6e0e5",
    "execution": {
     "iopub.execute_input": "2025-04-24T15:59:59.574898Z",
     "iopub.status.busy": "2025-04-24T15:59:59.574628Z",
     "iopub.status.idle": "2025-04-24T16:00:09.049806Z",
     "shell.execute_reply": "2025-04-24T16:00:09.049125Z"
    },
    "papermill": {
     "duration": 9.480915,
     "end_time": "2025-04-24T16:00:09.051177",
     "exception": false,
     "start_time": "2025-04-24T15:59:59.570262",
     "status": "completed"
    },
    "tags": []
   },
   "outputs": [],
   "source": [
    "import numpy as np\n",
    "import pandas as pd\n",
    "import torch\n",
    "import torch.optim as optim\n",
    "import torch.nn as nn\n",
    "import torchvision\n",
    "from torchvision.transforms import v2"
   ]
  },
  {
   "cell_type": "code",
   "execution_count": 2,
   "id": "a01a0b1c",
   "metadata": {
    "execution": {
     "iopub.execute_input": "2025-04-24T16:00:09.057762Z",
     "iopub.status.busy": "2025-04-24T16:00:09.057442Z",
     "iopub.status.idle": "2025-04-24T16:00:09.103782Z",
     "shell.execute_reply": "2025-04-24T16:00:09.103054Z"
    },
    "papermill": {
     "duration": 0.050695,
     "end_time": "2025-04-24T16:00:09.104903",
     "exception": false,
     "start_time": "2025-04-24T16:00:09.054208",
     "status": "completed"
    },
    "tags": []
   },
   "outputs": [],
   "source": [
    "device = torch.device(\"cuda\" if torch.cuda.is_available() else \"cpu\")"
   ]
  },
  {
   "cell_type": "code",
   "execution_count": 3,
   "id": "7c1ef2eb",
   "metadata": {
    "execution": {
     "iopub.execute_input": "2025-04-24T16:00:09.111273Z",
     "iopub.status.busy": "2025-04-24T16:00:09.110925Z",
     "iopub.status.idle": "2025-04-24T16:00:09.114353Z",
     "shell.execute_reply": "2025-04-24T16:00:09.113665Z"
    },
    "papermill": {
     "duration": 0.007796,
     "end_time": "2025-04-24T16:00:09.115519",
     "exception": false,
     "start_time": "2025-04-24T16:00:09.107723",
     "status": "completed"
    },
    "tags": []
   },
   "outputs": [],
   "source": [
    "image_size = (128, 128)\n",
    "batch = 128\n",
    "epochs = 50"
   ]
  },
  {
   "cell_type": "code",
   "execution_count": 4,
   "id": "2074fb91",
   "metadata": {
    "execution": {
     "iopub.execute_input": "2025-04-24T16:00:09.121624Z",
     "iopub.status.busy": "2025-04-24T16:00:09.121228Z",
     "iopub.status.idle": "2025-04-24T16:00:09.138670Z",
     "shell.execute_reply": "2025-04-24T16:00:09.138000Z"
    },
    "papermill": {
     "duration": 0.021546,
     "end_time": "2025-04-24T16:00:09.139798",
     "exception": false,
     "start_time": "2025-04-24T16:00:09.118252",
     "status": "completed"
    },
    "tags": []
   },
   "outputs": [
    {
     "name": "stderr",
     "output_type": "stream",
     "text": [
      "/usr/local/lib/python3.11/dist-packages/torchvision/transforms/v2/_deprecated.py:42: UserWarning: The transform `ToTensor()` is deprecated and will be removed in a future release. Instead, please use `v2.Compose([v2.ToImage(), v2.ToDtype(torch.float32, scale=True)])`.Output is equivalent up to float precision.\n",
      "  warnings.warn(\n"
     ]
    }
   ],
   "source": [
    "transform = v2.Compose([\n",
    "    v2.Resize(image_size),\n",
    "    v2.ToTensor(),\n",
    "])"
   ]
  },
  {
   "cell_type": "code",
   "execution_count": 5,
   "id": "c315d4b2",
   "metadata": {
    "execution": {
     "iopub.execute_input": "2025-04-24T16:00:09.146762Z",
     "iopub.status.busy": "2025-04-24T16:00:09.146563Z",
     "iopub.status.idle": "2025-04-24T16:01:03.486414Z",
     "shell.execute_reply": "2025-04-24T16:01:03.485822Z"
    },
    "papermill": {
     "duration": 54.344284,
     "end_time": "2025-04-24T16:01:03.487864",
     "exception": false,
     "start_time": "2025-04-24T16:00:09.143580",
     "status": "completed"
    },
    "tags": []
   },
   "outputs": [],
   "source": [
    "dataset = torchvision.datasets.ImageFolder(\"/kaggle/input/real-and-fake-images/dataset/train\", transform=transform)\n",
    "dataloader = torch.utils.data.DataLoader(dataset, batch_size=128, shuffle=True)"
   ]
  },
  {
   "cell_type": "code",
   "execution_count": 6,
   "id": "287fe70f",
   "metadata": {
    "execution": {
     "iopub.execute_input": "2025-04-24T16:01:03.494803Z",
     "iopub.status.busy": "2025-04-24T16:01:03.494147Z",
     "iopub.status.idle": "2025-04-24T16:01:03.500244Z",
     "shell.execute_reply": "2025-04-24T16:01:03.499692Z"
    },
    "papermill": {
     "duration": 0.010277,
     "end_time": "2025-04-24T16:01:03.501245",
     "exception": false,
     "start_time": "2025-04-24T16:01:03.490968",
     "status": "completed"
    },
    "tags": []
   },
   "outputs": [],
   "source": [
    "class MainNet(nn.Module):\n",
    "    def __init__(self):\n",
    "        super().__init__()\n",
    "        self.layers = nn.ModuleList([\n",
    "            # -> [b, 3, 128, 128]\n",
    "            nn.Conv2d(3, 32, kernel_size=4, stride=2, padding=1),\n",
    "            nn.LeakyReLU(0.2),\n",
    "            nn.BatchNorm2d(32),\n",
    "            # -> [b, 32, 64, 64]\n",
    "            nn.Conv2d(32, 64, kernel_size=4, stride=2, padding=1),\n",
    "            nn.LeakyReLU(0.2),\n",
    "            nn.BatchNorm2d(64),\n",
    "            # -> [b, 64, 32, 32]\n",
    "            nn.Conv2d(64, 128, kernel_size=4, stride=2, padding=1),\n",
    "            nn.LeakyReLU(0.2),\n",
    "            nn.BatchNorm2d(128),\n",
    "            # -> [b, 128, 16, 16]\n",
    "            nn.Conv2d(128, 256, kernel_size=4, stride=2, padding=1),\n",
    "            nn.LeakyReLU(0.2),\n",
    "            nn.BatchNorm2d(256),\n",
    "            # -> [b, 256, 8, 8]\n",
    "            nn.Flatten(),\n",
    "            nn.Linear(256*8*8, 1024),\n",
    "            nn.LeakyReLU(0.2),\n",
    "            nn.BatchNorm1d(1024),\n",
    "            \n",
    "            nn.Linear(1024, 1)\n",
    "        ])\n",
    "\n",
    "    def forward(self, x):\n",
    "        for layers in self.layers:\n",
    "            x = layers(x)\n",
    "        return x"
   ]
  },
  {
   "cell_type": "code",
   "execution_count": 7,
   "id": "2015929c",
   "metadata": {
    "execution": {
     "iopub.execute_input": "2025-04-24T16:01:03.506830Z",
     "iopub.status.busy": "2025-04-24T16:01:03.506647Z",
     "iopub.status.idle": "2025-04-24T16:01:03.512167Z",
     "shell.execute_reply": "2025-04-24T16:01:03.511491Z"
    },
    "papermill": {
     "duration": 0.009576,
     "end_time": "2025-04-24T16:01:03.513283",
     "exception": false,
     "start_time": "2025-04-24T16:01:03.503707",
     "status": "completed"
    },
    "tags": []
   },
   "outputs": [],
   "source": [
    "class AuxNet(nn.Module):\n",
    "    def __init__(self):\n",
    "        super().__init__()\n",
    "        self.layers = nn.ModuleList([\n",
    "            # -> [b, 3, 128, 128]\n",
    "            nn.Conv2d(3, 32, kernel_size=4, stride=2, padding=1),\n",
    "            nn.LeakyReLU(0.2),\n",
    "            nn.BatchNorm2d(32),\n",
    "            # -> [b, 32, 64, 64]\n",
    "            nn.Conv2d(32, 64, kernel_size=4, stride=2, padding=1),\n",
    "            nn.LeakyReLU(0.2),\n",
    "            nn.BatchNorm2d(64),\n",
    "            # -> [b, 64, 32, 32]\n",
    "            nn.Conv2d(64, 128, kernel_size=4, stride=2, padding=1),\n",
    "            nn.LeakyReLU(0.2),\n",
    "            nn.BatchNorm2d(128),\n",
    "            # -> [b, 128, 16, 16]\n",
    "            nn.Conv2d(128, 256, kernel_size=4, stride=2, padding=1),\n",
    "            nn.LeakyReLU(0.2),\n",
    "            nn.BatchNorm2d(256),\n",
    "            # -> [b, 256, 8, 8]\n",
    "            nn.Flatten(),\n",
    "            nn.Linear(256*8*8, 1024),\n",
    "            nn.LeakyReLU(0.2),\n",
    "            nn.BatchNorm1d(1024),\n",
    "            \n",
    "            nn.Linear(1024, 1)\n",
    "        ])\n",
    "\n",
    "    def forward(self, x):\n",
    "        for layers in self.layers:\n",
    "            x = layers(x)\n",
    "        return x"
   ]
  },
  {
   "cell_type": "code",
   "execution_count": 8,
   "id": "a8dc8d44",
   "metadata": {
    "execution": {
     "iopub.execute_input": "2025-04-24T16:01:03.519497Z",
     "iopub.status.busy": "2025-04-24T16:01:03.518875Z",
     "iopub.status.idle": "2025-04-24T16:01:04.050197Z",
     "shell.execute_reply": "2025-04-24T16:01:04.049396Z"
    },
    "papermill": {
     "duration": 0.53575,
     "end_time": "2025-04-24T16:01:04.051627",
     "exception": false,
     "start_time": "2025-04-24T16:01:03.515877",
     "status": "completed"
    },
    "tags": []
   },
   "outputs": [],
   "source": [
    "mainNet = MainNet().to(device)\n",
    "auxNet = AuxNet().to(device)"
   ]
  },
  {
   "cell_type": "code",
   "execution_count": 9,
   "id": "a8d854f2",
   "metadata": {
    "execution": {
     "iopub.execute_input": "2025-04-24T16:01:04.058055Z",
     "iopub.status.busy": "2025-04-24T16:01:04.057827Z",
     "iopub.status.idle": "2025-04-24T16:01:04.062442Z",
     "shell.execute_reply": "2025-04-24T16:01:04.061766Z"
    },
    "papermill": {
     "duration": 0.008793,
     "end_time": "2025-04-24T16:01:04.063450",
     "exception": false,
     "start_time": "2025-04-24T16:01:04.054657",
     "status": "completed"
    },
    "tags": []
   },
   "outputs": [],
   "source": [
    "def build_route(main_layers, aux_layers, route_type):\n",
    "    seq = []\n",
    "    if route in (1, 2):\n",
    "        for i, (main_l, aux_l) in enumerate(zip(main_layers, aux_layers)):\n",
    "            if route_type == 1:\n",
    "                if i % 2 == 0:\n",
    "                    seq.append(aux_l)\n",
    "                else:\n",
    "                    seq.append(main_l)\n",
    "    \n",
    "            if route_type == 2:\n",
    "                if i % 2 == 0:\n",
    "                    seq.append(main_l)\n",
    "                else:\n",
    "                    seq.append(aux_l)\n",
    "    else:\n",
    "        seq = main_layers\n",
    "\n",
    "    return nn.Sequential(*seq), seq"
   ]
  },
  {
   "cell_type": "code",
   "execution_count": 10,
   "id": "7d790191",
   "metadata": {
    "execution": {
     "iopub.execute_input": "2025-04-24T16:01:04.069565Z",
     "iopub.status.busy": "2025-04-24T16:01:04.069003Z",
     "iopub.status.idle": "2025-04-24T16:01:04.073151Z",
     "shell.execute_reply": "2025-04-24T16:01:04.072463Z"
    },
    "papermill": {
     "duration": 0.008098,
     "end_time": "2025-04-24T16:01:04.074175",
     "exception": false,
     "start_time": "2025-04-24T16:01:04.066077",
     "status": "completed"
    },
    "tags": []
   },
   "outputs": [],
   "source": [
    "routes = [1, 2, 3]\n",
    "\n",
    "all_params = list(mainNet.parameters()) + list(auxNet.parameters())\n",
    "\n",
    "criterion = nn.BCEWithLogitsLoss()\n",
    "optimizer = optim.Adam(all_params, lr=1e-3)"
   ]
  },
  {
   "cell_type": "code",
   "execution_count": 11,
   "id": "7e96e33c",
   "metadata": {
    "execution": {
     "iopub.execute_input": "2025-04-24T16:01:04.079669Z",
     "iopub.status.busy": "2025-04-24T16:01:04.079484Z",
     "iopub.status.idle": "2025-04-24T17:16:34.239876Z",
     "shell.execute_reply": "2025-04-24T17:16:34.239147Z"
    },
    "papermill": {
     "duration": 4530.168879,
     "end_time": "2025-04-24T17:16:34.245521",
     "exception": false,
     "start_time": "2025-04-24T16:01:04.076642",
     "status": "completed"
    },
    "tags": []
   },
   "outputs": [
    {
     "name": "stdout",
     "output_type": "stream",
     "text": [
      "[1/50] Loss: 0.42758119106292725\n",
      "[2/50] Loss: 0.33212199807167053\n",
      "[3/50] Loss: 0.30787816643714905\n",
      "[4/50] Loss: 0.20179173350334167\n",
      "[5/50] Loss: 0.1232912540435791\n",
      "[6/50] Loss: 0.18464219570159912\n",
      "[7/50] Loss: 0.04163185507059097\n",
      "[8/50] Loss: 0.18327262997627258\n",
      "[9/50] Loss: 0.3189839720726013\n",
      "[10/50] Loss: 0.04070073366165161\n",
      "[11/50] Loss: 0.103192038834095\n",
      "[12/50] Loss: 0.12198452651500702\n",
      "[13/50] Loss: 0.14488382637500763\n",
      "[14/50] Loss: 0.02706749737262726\n",
      "[15/50] Loss: 0.05620477721095085\n",
      "[16/50] Loss: 0.2506568133831024\n",
      "[17/50] Loss: 0.023909512907266617\n",
      "[18/50] Loss: 0.08002138137817383\n",
      "[19/50] Loss: 4.4041324144927785e-05\n",
      "[20/50] Loss: 0.039637889713048935\n",
      "[21/50] Loss: 0.14927434921264648\n",
      "[22/50] Loss: 0.057882316410541534\n",
      "[23/50] Loss: 0.027636390179395676\n",
      "[24/50] Loss: 0.12820006906986237\n",
      "[25/50] Loss: 0.02788466215133667\n",
      "[26/50] Loss: 0.000759470509365201\n",
      "[27/50] Loss: 0.007667736150324345\n",
      "[28/50] Loss: 0.030888449400663376\n",
      "[29/50] Loss: 0.030532874166965485\n",
      "[30/50] Loss: 0.0022196213249117136\n",
      "[31/50] Loss: 0.004905815236270428\n",
      "[32/50] Loss: 9.954859706340358e-06\n",
      "[33/50] Loss: 0.3589683473110199\n",
      "[34/50] Loss: 0.004656889010220766\n",
      "[35/50] Loss: 0.01313757337629795\n",
      "[36/50] Loss: 0.0886550322175026\n",
      "[37/50] Loss: 0.010707192122936249\n",
      "[38/50] Loss: 0.07287392020225525\n",
      "[39/50] Loss: 0.0019680506084114313\n",
      "[40/50] Loss: 0.003229032037779689\n",
      "[41/50] Loss: 8.292100392282009e-05\n",
      "[42/50] Loss: 0.006920272018760443\n",
      "[43/50] Loss: 2.082040737150237e-05\n",
      "[44/50] Loss: 0.00019239610992372036\n",
      "[45/50] Loss: 0.00010392085823696107\n",
      "[46/50] Loss: 0.0008977173129096627\n",
      "[47/50] Loss: 0.00022117570915725082\n",
      "[48/50] Loss: 0.15280546247959137\n",
      "[49/50] Loss: 0.02145339734852314\n",
      "[50/50] Loss: 4.114512921660207e-05\n"
     ]
    }
   ],
   "source": [
    "for epoch in range(1, epochs+1):\n",
    "    for images, labels in dataloader:\n",
    "        images, labels = images.to(device), labels.to(device)\n",
    "        Ls = {}\n",
    "        for route in routes:\n",
    "            \n",
    "            submodel, layers = build_route(list(mainNet.layers), list(auxNet.layers), route)\n",
    "\n",
    "            for p in all_params:\n",
    "                p.requires_grad = False\n",
    "            for l in layers:\n",
    "                for p in l.parameters():\n",
    "                    p.requires_grad = True\n",
    "\n",
    "            out = submodel(images)\n",
    "            loss = criterion(out.squeeze(1), labels.float())\n",
    "\n",
    "            Ls[f'L{route}'] = loss\n",
    "\n",
    "        L1, L2, L3 = Ls[\"L1\"], Ls[\"L2\"], Ls[\"L3\"]\n",
    "        \n",
    "        alpha = 2 * L3.detach() / (L1.detach() + L2.detach() + 1e-8)\n",
    "        loss_total = alpha * (L1 + L2) + L3\n",
    "        \n",
    "        optimizer.zero_grad()\n",
    "        loss_total.backward()\n",
    "        optimizer.step()\n",
    "\n",
    "    print(f\"[{epoch}/{epochs}] Loss: {loss_total}\")"
   ]
  },
  {
   "cell_type": "code",
   "execution_count": 12,
   "id": "f0cc0586",
   "metadata": {
    "execution": {
     "iopub.execute_input": "2025-04-24T17:16:34.256219Z",
     "iopub.status.busy": "2025-04-24T17:16:34.255892Z",
     "iopub.status.idle": "2025-04-24T17:16:43.358866Z",
     "shell.execute_reply": "2025-04-24T17:16:43.358320Z"
    },
    "papermill": {
     "duration": 9.109682,
     "end_time": "2025-04-24T17:16:43.360198",
     "exception": false,
     "start_time": "2025-04-24T17:16:34.250516",
     "status": "completed"
    },
    "tags": []
   },
   "outputs": [],
   "source": [
    "val_dataset = torchvision.datasets.ImageFolder(\"/kaggle/input/real-and-fake-images/dataset/validation\", transform=transform)\n",
    "val_loader = torch.utils.data.DataLoader(val_dataset, batch_size=128, shuffle=True)"
   ]
  },
  {
   "cell_type": "code",
   "execution_count": 13,
   "id": "7d4eee6e",
   "metadata": {
    "execution": {
     "iopub.execute_input": "2025-04-24T17:16:43.370482Z",
     "iopub.status.busy": "2025-04-24T17:16:43.369997Z",
     "iopub.status.idle": "2025-04-24T17:17:29.838723Z",
     "shell.execute_reply": "2025-04-24T17:17:29.838033Z"
    },
    "papermill": {
     "duration": 46.478782,
     "end_time": "2025-04-24T17:17:29.843753",
     "exception": false,
     "start_time": "2025-04-24T17:16:43.364971",
     "status": "completed"
    },
    "tags": []
   },
   "outputs": [
    {
     "name": "stdout",
     "output_type": "stream",
     "text": [
      "Val Loss: 3.0224 | Val Acc: 76.97%\n"
     ]
    },
    {
     "data": {
      "text/plain": [
       "AuxNet(\n",
       "  (layers): ModuleList(\n",
       "    (0): Conv2d(3, 32, kernel_size=(4, 4), stride=(2, 2), padding=(1, 1))\n",
       "    (1): LeakyReLU(negative_slope=0.2)\n",
       "    (2): BatchNorm2d(32, eps=1e-05, momentum=0.1, affine=True, track_running_stats=True)\n",
       "    (3): Conv2d(32, 64, kernel_size=(4, 4), stride=(2, 2), padding=(1, 1))\n",
       "    (4): LeakyReLU(negative_slope=0.2)\n",
       "    (5): BatchNorm2d(64, eps=1e-05, momentum=0.1, affine=True, track_running_stats=True)\n",
       "    (6): Conv2d(64, 128, kernel_size=(4, 4), stride=(2, 2), padding=(1, 1))\n",
       "    (7): LeakyReLU(negative_slope=0.2)\n",
       "    (8): BatchNorm2d(128, eps=1e-05, momentum=0.1, affine=True, track_running_stats=True)\n",
       "    (9): Conv2d(128, 256, kernel_size=(4, 4), stride=(2, 2), padding=(1, 1))\n",
       "    (10): LeakyReLU(negative_slope=0.2)\n",
       "    (11): BatchNorm2d(256, eps=1e-05, momentum=0.1, affine=True, track_running_stats=True)\n",
       "    (12): Flatten(start_dim=1, end_dim=-1)\n",
       "    (13): Linear(in_features=16384, out_features=1024, bias=True)\n",
       "    (14): LeakyReLU(negative_slope=0.2)\n",
       "    (15): BatchNorm1d(1024, eps=1e-05, momentum=0.1, affine=True, track_running_stats=True)\n",
       "    (16): Linear(in_features=1024, out_features=1, bias=True)\n",
       "  )\n",
       ")"
      ]
     },
     "execution_count": 13,
     "metadata": {},
     "output_type": "execute_result"
    }
   ],
   "source": [
    "mainNet.eval()\n",
    "auxNet.eval()\n",
    "val_loss = 0.0\n",
    "correct = 0\n",
    "total = 0\n",
    "\n",
    "with torch.no_grad():\n",
    "    for images, labels in val_loader:\n",
    "        images, labels = images.to(device), labels.to(device).float()\n",
    "\n",
    "        # Resultado do último route (por exemplo, route 3)\n",
    "        submodel, _ = build_route(list(mainNet.layers), list(auxNet.layers), route_type=3)\n",
    "        outputs = submodel(images).squeeze(1)\n",
    "        \n",
    "        loss = criterion(outputs, labels)\n",
    "        val_loss += loss.item()\n",
    "\n",
    "        preds = torch.sigmoid(outputs) >= 0.5\n",
    "        correct += (preds == labels.bool()).sum().item()\n",
    "        total += labels.size(0)\n",
    "\n",
    "avg_val_loss = val_loss / len(val_loader)\n",
    "val_accuracy = correct / total * 100\n",
    "\n",
    "print(f\"Val Loss: {avg_val_loss:.4f} | Val Acc: {val_accuracy:.2f}%\")\n",
    "\n",
    "mainNet.train()\n",
    "auxNet.train()"
   ]
  },
  {
   "cell_type": "code",
   "execution_count": 14,
   "id": "679979da",
   "metadata": {
    "execution": {
     "iopub.execute_input": "2025-04-24T17:17:29.853353Z",
     "iopub.status.busy": "2025-04-24T17:17:29.853147Z",
     "iopub.status.idle": "2025-04-24T17:17:29.998012Z",
     "shell.execute_reply": "2025-04-24T17:17:29.997455Z"
    },
    "papermill": {
     "duration": 0.151035,
     "end_time": "2025-04-24T17:17:29.999261",
     "exception": false,
     "start_time": "2025-04-24T17:17:29.848226",
     "status": "completed"
    },
    "tags": []
   },
   "outputs": [],
   "source": [
    "torch.save(mainNet.state_dict(), \"main_net.pth\")"
   ]
  },
  {
   "cell_type": "code",
   "execution_count": 15,
   "id": "4ec5d9f4",
   "metadata": {
    "execution": {
     "iopub.execute_input": "2025-04-24T17:17:30.009881Z",
     "iopub.status.busy": "2025-04-24T17:17:30.009474Z",
     "iopub.status.idle": "2025-04-24T17:17:30.211655Z",
     "shell.execute_reply": "2025-04-24T17:17:30.210830Z"
    },
    "papermill": {
     "duration": 0.209255,
     "end_time": "2025-04-24T17:17:30.213324",
     "exception": false,
     "start_time": "2025-04-24T17:17:30.004069",
     "status": "completed"
    },
    "tags": []
   },
   "outputs": [],
   "source": [
    "torch.save(auxNet.state_dict(), \"main_net.pth\")"
   ]
  },
  {
   "cell_type": "code",
   "execution_count": null,
   "id": "0e6e404d",
   "metadata": {
    "papermill": {
     "duration": 0.010975,
     "end_time": "2025-04-24T17:17:30.229228",
     "exception": false,
     "start_time": "2025-04-24T17:17:30.218253",
     "status": "completed"
    },
    "tags": []
   },
   "outputs": [],
   "source": []
  }
 ],
 "metadata": {
  "kaggle": {
   "accelerator": "gpu",
   "dataSources": [
    {
     "datasetId": 7078326,
     "sourceId": 11316276,
     "sourceType": "datasetVersion"
    }
   ],
   "dockerImageVersionId": 31012,
   "isGpuEnabled": true,
   "isInternetEnabled": true,
   "language": "python",
   "sourceType": "notebook"
  },
  "kernelspec": {
   "display_name": "Python 3",
   "language": "python",
   "name": "python3"
  },
  "language_info": {
   "codemirror_mode": {
    "name": "ipython",
    "version": 3
   },
   "file_extension": ".py",
   "mimetype": "text/x-python",
   "name": "python",
   "nbconvert_exporter": "python",
   "pygments_lexer": "ipython3",
   "version": "3.11.11"
  },
  "papermill": {
   "default_parameters": {},
   "duration": 4656.826948,
   "end_time": "2025-04-24T17:17:32.447027",
   "environment_variables": {},
   "exception": null,
   "input_path": "__notebook__.ipynb",
   "output_path": "__notebook__.ipynb",
   "parameters": {},
   "start_time": "2025-04-24T15:59:55.620079",
   "version": "2.6.0"
  }
 },
 "nbformat": 4,
 "nbformat_minor": 5
}
